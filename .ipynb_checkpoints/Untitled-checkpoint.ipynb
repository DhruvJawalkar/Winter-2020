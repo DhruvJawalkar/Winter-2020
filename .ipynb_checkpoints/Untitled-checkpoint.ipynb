{
 "cells": [
  {
   "cell_type": "code",
   "execution_count": 1,
   "metadata": {},
   "outputs": [
    {
     "name": "stdout",
     "output_type": "stream",
     "text": [
      "3\n"
     ]
    }
   ],
   "source": [
    "def knapSack(W, wt, val, n): \n",
    "    K = [[0 for x in range(W+1)] for x in range(n+1)] \n",
    "\n",
    "    # Build table K[][] in bottom up manner \n",
    "    for i in range(n+1): \n",
    "        for w in range(W+1): \n",
    "            if i==0 or w==0: \n",
    "                K[i][w] = 0\n",
    "            elif wt[i-1] <= w: \n",
    "                K[i][w] = max(val[i-1] + K[i-1][w-wt[i-1]], K[i-1][w]) \n",
    "            else: \n",
    "                K[i][w] = K[i-1][w] \n",
    "    return K[n][W]  \n",
    "\n",
    "# Driver program to test above function \n",
    "val = [1, 1, 1, 1] \n",
    "wt = [2, 5, 6, 8] \n",
    "W = 17\n",
    "n = len(val) \n",
    "print(knapSack(W, wt, val, n)) \n",
    "\n",
    "# This code is contributed by Bhavya Jain \n"
   ]
  },
  {
   "cell_type": "code",
   "execution_count": null,
   "metadata": {},
   "outputs": [],
   "source": []
  }
 ],
 "metadata": {
  "kernelspec": {
   "display_name": "Python 3",
   "language": "python",
   "name": "python3"
  },
  "language_info": {
   "codemirror_mode": {
    "name": "ipython",
    "version": 3
   },
   "file_extension": ".py",
   "mimetype": "text/x-python",
   "name": "python",
   "nbconvert_exporter": "python",
   "pygments_lexer": "ipython3",
   "version": "3.6.8"
  }
 },
 "nbformat": 4,
 "nbformat_minor": 2
}
